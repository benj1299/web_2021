{
 "cells": [
  {
   "cell_type": "code",
   "execution_count": null,
   "metadata": {},
   "outputs": [],
   "source": [
    "import pandas as pd "
   ]
  },
  {
   "cell_type": "code",
   "execution_count": null,
   "metadata": {},
   "outputs": [],
   "source": [
    "df = pd.read_excel(\"./original.xlsx\")\n",
    "df = df.drop('Unnamed: 0', axis= 1)"
   ]
  },
  {
   "cell_type": "code",
   "execution_count": null,
   "metadata": {},
   "outputs": [],
   "source": [
    "df.drop(df.loc[df['adm_lb_nom']=='BPT'].index, inplace=True)\n",
    "df.drop(df.loc[df['adm_lb_nom']=='SRR'].index, inplace=True)\n",
    "df.drop(df.loc[df['adm_lb_nom']=='ZEOP'].index, inplace=True)\n",
    "df.drop(df.loc[df['adm_lb_nom']=='ONATI'].index, inplace=True)\n",
    "df.drop(df.loc[df['adm_lb_nom']=='HUBONE'].index, inplace=True)\n",
    "df.drop(df.loc[df['adm_lb_nom']=='DIGICEL'].index, inplace=True)\n",
    "df.drop(df.loc[df['adm_lb_nom']=='TELCO OI'].index, inplace=True)\n",
    "df.drop(df.loc[df['adm_lb_nom']=='VITI SAS'].index, inplace=True)\n",
    "df.drop(df.loc[df['adm_lb_nom']=='GLOBALTEL'].index, inplace=True)\n",
    "df.drop(df.loc[df['adm_lb_nom']=='SPM TELECOM'].index, inplace=True)\n",
    "df.drop(df.loc[df['adm_lb_nom']=='MAORE MOBILE'].index, inplace=True)\n",
    "df.drop(df.loc[df['adm_lb_nom']=='PMT/VODAFONE'].index, inplace=True)\n",
    "df.drop(df.loc[df['adm_lb_nom']=='DAUPHIN TELECOM'].index, inplace=True)\n",
    "df.drop(df.loc[df['adm_lb_nom']=='OUTREMER TELECOM'].index, inplace=True)\n",
    "df.drop(df.loc[df['adm_lb_nom']=='Gouv Nelle Calédonie (OPT)'].index, inplace=True)\n",
    "df.drop(df.loc[df['adm_lb_nom']=='Station étrangère'].index, inplace=True)"
   ]
  },
  {
   "cell_type": "code",
   "execution_count": null,
   "metadata": {},
   "outputs": [],
   "source": [
    "df[[\"lat\", \"long\"]] = df[\"coordonnees\"].str.split(\", \", expand=True)\n",
    "del df[\"coordonnees\"]"
   ]
  },
  {
   "cell_type": "code",
   "execution_count": null,
   "metadata": {},
   "outputs": [],
   "source": [
    "def switch_operateur(argument):\n",
    "    switcher = {\n",
    "        'B&You': \"BOUYGUES TELECOM\",\n",
    "        'Cdiscount': \"BOUYGUES TELECOM\",\n",
    "        'NRJMobile': \"BOUYGUES TELECOM\",\n",
    "        'AuchanTelecom': \"BOUYGUES TELECOM\",\n",
    "        'BouyguesTelecom': \"BOUYGUES TELECOM\",\n",
    "        'SFR': \"SFR\",\n",
    "        'LaPosteMobile': \"SFR\",\n",
    "        'RED': \"SFR\",\n",
    "        'RegloMobile': \"SFR\",\n",
    "        'Orange': \"ORANGE\",\n",
    "        'Sosh': \"ORANGE\",\n",
    "        'Syma': \"ORANGE\",\n",
    "        'Free': 'FREE MOBILE'\n",
    "    }\n",
    "    return switcher.get(argument)"
   ]
  },
  {
   "cell_type": "code",
   "execution_count": null,
   "metadata": {},
   "outputs": [],
   "source": [
    "from bs4 import BeautifulSoup\n",
    "import urllib.request\n",
    "\n",
    "def comparateur():\n",
    "    urlpage = 'https://lemon.fr/forfaits-mobiles-comparateur/?gclid=CjwKCAjw6qqDBhB-EiwACBs6xyIPAZk5v_DquCek6WXB4kLyDU5A9Q28h8FMLza5HI4oRKA3zHtHNRoCTz8QAvD_BwE'\n",
    "\n",
    "    # query the website and return the html to the variable 'page'\n",
    "    page = urllib.request.urlopen(urlpage)\n",
    "    # parse the html using beautiful soup and store in variable 'soup'\n",
    "    soup = BeautifulSoup(page, 'html.parser')\n",
    "\n",
    "    results = soup.find_all('div', attrs={'class': 'row-offre'})\n",
    "\n",
    "    operateur = []\n",
    "    sous_operateur = []\n",
    "    image = []\n",
    "    forfait = []\n",
    "    prix = []\n",
    "    lien = []\n",
    "    for result in results:\n",
    "        # Récupère les opérateurs\n",
    "        texte = result.find('div', attrs={'class': 'titre-h3'})\n",
    "        texte = texte.find('a').getText()\n",
    "        texte = texte.split(' ')\n",
    "        texte = texte[0]\n",
    "        # Prixtel et Coriolis sont sur les lignes Orange et SFR il faut doc les ajouter deux fois\n",
    "        if texte == 'Prixtel' or texte == 'Coriolis':\n",
    "            # Recupere le sous opérateur\n",
    "            sous_operateur.append(texte)\n",
    "            sous_operateur.append(texte)\n",
    "            operateur.append('SFR')\n",
    "            operateur.append('ORANGE')\n",
    "            # Recupere les images\n",
    "            image.append(result.find('img').get('src'))\n",
    "            image.append(result.find('img').get('src'))\n",
    "            # Récupère le forfait\n",
    "            texte = result.find('div', attrs={'class': 'titre-h3'})\n",
    "            texte = texte.find('a').getText()\n",
    "            texte = texte.replace('â€“', '-').replace('–','-').split('-')\n",
    "            texte = texte[1:]\n",
    "            forfait.append(texte)\n",
    "            forfait.append(texte)\n",
    "            # Récupère le prix\n",
    "            prix.append(result.find('p').getText().replace('â‚¬','€').split(' ')[1])\n",
    "            prix.append(result.find('p').getText().replace('â‚¬','€').split(' ')[1])\n",
    "            #Recupere le lien\n",
    "            texte = result.find('div', attrs= {'class': 'd-md-none d-lg-block col-4 col-sm-2 col-link text-center'})\n",
    "            lien.append(texte.find('a').get('href'))\n",
    "            lien.append(texte.find('a').get('href'))\n",
    "        else:\n",
    "            # Recupere le sous opérateur\n",
    "            sous_operateur.append(texte)\n",
    "            operateur.append(switch_operateur(texte))\n",
    "            # Recupere les images\n",
    "            image.append(result.find('img').get('src'))\n",
    "            # Récupère le forfait\n",
    "            texte = result.find('div', attrs={'class': 'titre-h3'})\n",
    "            texte = texte.find('a').getText()\n",
    "            texte = texte.replace('â€“', '-').replace('–','-').split('-')\n",
    "            texte = texte[1:]\n",
    "            forfait.append(texte)\n",
    "            # Récupère le prix\n",
    "            prix.append(result.find('p').getText().replace('â‚¬','€').split(' ')[1])\n",
    "            #Recupere le lien\n",
    "            texte = result.find('div', attrs= {'class': 'd-md-none d-lg-block col-4 col-sm-2 col-link text-center'})\n",
    "            lien.append(texte.find('a').get('href'))\n",
    "\n",
    "    df = pd.DataFrame(list(zip(operateur,sous_operateur, image,forfait,prix,lien)), columns=['Opérateur', 'Sous opérateur', 'Image', 'Forfait', 'Prix', 'Lien'])\n",
    "    df.to_csv('comparateur.csv', index=False)"
   ]
  },
  {
   "cell_type": "code",
   "execution_count": null,
   "metadata": {},
   "outputs": [],
   "source": [
    "comparateur()"
   ]
  },
  {
   "cell_type": "code",
   "execution_count": null,
   "metadata": {},
   "outputs": [],
   "source": [
    "df2 = pd.read_csv(\"./comparateur.csv\",  encoding='utf-8')"
   ]
  },
  {
   "cell_type": "code",
   "execution_count": null,
   "metadata": {},
   "outputs": [],
   "source": [
    "operators = {'B&You': \"BOUYGUES TELECOM\", 'RED':'SFR', 'FREE': 'FREE MOBILE'}\n",
    "\n",
    "# Renomme la colone opérateur\n",
    "df2 = df2.rename(columns={\"Opérateur\": \"adm_lb_nom\"})"
   ]
  },
  {
   "cell_type": "code",
   "execution_count": null,
   "metadata": {
    "scrolled": true
   },
   "outputs": [],
   "source": [
    "df = df.merge(df2, how='inner', on='adm_lb_nom')"
   ]
  },
  {
   "cell_type": "code",
   "execution_count": null,
   "metadata": {},
   "outputs": [],
   "source": [
    "df[\"Prix\"] = df[\"Prix\"].str.replace(\"€\", \"\")"
   ]
  },
  {
   "cell_type": "code",
   "execution_count": null,
   "metadata": {},
   "outputs": [],
   "source": [
    "df.to_csv(\"web/out.csv\", encoding='utf-8')"
   ]
  },
  {
   "cell_type": "code",
   "execution_count": null,
   "metadata": {},
   "outputs": [],
   "source": []
  },
  {
   "cell_type": "code",
   "execution_count": null,
   "metadata": {},
   "outputs": [],
   "source": []
  }
 ],
 "metadata": {
  "kernelspec": {
   "display_name": "Python 3",
   "language": "python",
   "name": "python3"
  },
  "language_info": {
   "name": "python",
   "version": ""
  }
 },
 "nbformat": 4,
 "nbformat_minor": 2
}